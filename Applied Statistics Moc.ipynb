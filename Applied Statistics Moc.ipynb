{
 "cells": [
  {
   "cell_type": "markdown",
   "metadata": {},
   "source": [
    "## Mock Set - Applied Statistics\n",
    "\n",
    "### Problem Domain - Healthcare & Insurance\n",
    "\n",
    "### Context:\n",
    "\n",
    "In this use-case you need to explore the medical cost of people characterised by certian attributes.\n",
    "\n",
    "You need to come up with some insights by which we can make use of customer information to improve the business performance.\n",
    "\n",
    "### Attribute Information\n",
    "* **`Customer age last birthday`**: age of primary beneficiary\n",
    "* **`Gender of customer`**: insurance contractor gender, female, male\n",
    "* **`Body Mass`**: Body mass index, providing an understanding of body weights that are relatively high or low relative to height, objective index of body weight (kg/m^2) using the ratio of height to weight, ideally 18.5 to 24.9\n",
    "* **`Kids`**: Number of children covered by health insurance / Number of dependents\n",
    "* **`Is he a smoker`**: Smoking\n",
    "* **`Regional Information`**: the beneficiary's residential area in the US, northeast, southeast, southwest, northwest\n",
    "* **`Cost`**: Individual medical costs billed by health insurance.\n",
    "\n",
    "### Your Exploratory Data Analysis should contain following information\n",
    "\n",
    "* **`Data type of each attribute`**: \n",
    "* **`Checking the presence of missing values`**: \n",
    "* **`Five point summary of numerical attributes`**: \n",
    "* **`3M Analysis - Mean, Median, Mode `**: \n",
    "* **`Detection of outliers using - Boxplot, Scatter Plot, Z-Score and IQR Score`**: \n",
    "* **`Distribution of every categorical features`**: \n",
    "* **`Cross Tabulation - eg. smoker and age `**: \n",
    "\n",
    "\n",
    "### Hypothesis testing for statistical evidence \n",
    "\n",
    "* **`1`**:Do charges of people who smoke differs significantly from the people who don't\n",
    "* **`2`**:Does bmi of males differ significantly from that of females?\n",
    "* **`3`**:Is the proportion of smokers significantly different in different genders? \n",
    "* **`4`**:Independenec of Males & Females\n",
    "* **`5`**:Is the distribution of bmi across women with no children, one child and two children, the same? \n",
    "\n"
   ]
  },
  {
   "cell_type": "code",
   "execution_count": null,
   "metadata": {},
   "outputs": [],
   "source": []
  }
 ],
 "metadata": {
  "kernelspec": {
   "display_name": "Python 3",
   "language": "python",
   "name": "python3"
  },
  "language_info": {
   "codemirror_mode": {
    "name": "ipython",
    "version": 3
   },
   "file_extension": ".py",
   "mimetype": "text/x-python",
   "name": "python",
   "nbconvert_exporter": "python",
   "pygments_lexer": "ipython3",
   "version": "3.7.4"
  }
 },
 "nbformat": 4,
 "nbformat_minor": 2
}
